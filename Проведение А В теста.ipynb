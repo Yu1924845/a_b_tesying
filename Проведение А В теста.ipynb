{
 "cells": [
  {
   "cell_type": "markdown",
   "id": "d80bcf5f",
   "metadata": {},
   "source": [
    "# Проведение А/В-теста"
   ]
  },
  {
   "cell_type": "markdown",
   "id": "5537cdd9",
   "metadata": {},
   "source": [
    "Источник данных: https://www.kaggle.com/code/kavitabhagwani/marketing-campaign-analysis-basics"
   ]
  },
  {
   "cell_type": "code",
   "execution_count": 227,
   "id": "9c5c680f",
   "metadata": {},
   "outputs": [],
   "source": [
    "import pandas as pd\n",
    "import numpy as np\n",
    "import matplotlib.pyplot as plt\n",
    "import seaborn as sns\n",
    "from sklearn.model_selection import train_test_split\n",
    "from scipy.stats import mannwhitneyu\n",
    "from matplotlib.ticker import PercentFormatter"
   ]
  },
  {
   "cell_type": "code",
   "execution_count": 116,
   "id": "d0740195",
   "metadata": {},
   "outputs": [
    {
     "data": {
      "text/html": [
       "<div>\n",
       "<style scoped>\n",
       "    .dataframe tbody tr th:only-of-type {\n",
       "        vertical-align: middle;\n",
       "    }\n",
       "\n",
       "    .dataframe tbody tr th {\n",
       "        vertical-align: top;\n",
       "    }\n",
       "\n",
       "    .dataframe thead th {\n",
       "        text-align: right;\n",
       "    }\n",
       "</style>\n",
       "<table border=\"1\" class=\"dataframe\">\n",
       "  <thead>\n",
       "    <tr style=\"text-align: right;\">\n",
       "      <th></th>\n",
       "      <th>user_id</th>\n",
       "      <th>date_served</th>\n",
       "      <th>marketing_channel</th>\n",
       "      <th>variant</th>\n",
       "      <th>language_displayed</th>\n",
       "      <th>converted</th>\n",
       "    </tr>\n",
       "  </thead>\n",
       "  <tbody>\n",
       "    <tr>\n",
       "      <th>0</th>\n",
       "      <td>a1000</td>\n",
       "      <td>1/1/18</td>\n",
       "      <td>House Ads</td>\n",
       "      <td>personalization</td>\n",
       "      <td>English</td>\n",
       "      <td>True</td>\n",
       "    </tr>\n",
       "    <tr>\n",
       "      <th>1</th>\n",
       "      <td>a1001</td>\n",
       "      <td>1/1/18</td>\n",
       "      <td>House Ads</td>\n",
       "      <td>personalization</td>\n",
       "      <td>English</td>\n",
       "      <td>True</td>\n",
       "    </tr>\n",
       "    <tr>\n",
       "      <th>2</th>\n",
       "      <td>a1002</td>\n",
       "      <td>1/1/18</td>\n",
       "      <td>House Ads</td>\n",
       "      <td>personalization</td>\n",
       "      <td>English</td>\n",
       "      <td>True</td>\n",
       "    </tr>\n",
       "    <tr>\n",
       "      <th>3</th>\n",
       "      <td>a1003</td>\n",
       "      <td>1/1/18</td>\n",
       "      <td>House Ads</td>\n",
       "      <td>personalization</td>\n",
       "      <td>English</td>\n",
       "      <td>True</td>\n",
       "    </tr>\n",
       "    <tr>\n",
       "      <th>4</th>\n",
       "      <td>a1004</td>\n",
       "      <td>1/1/18</td>\n",
       "      <td>House Ads</td>\n",
       "      <td>personalization</td>\n",
       "      <td>English</td>\n",
       "      <td>True</td>\n",
       "    </tr>\n",
       "  </tbody>\n",
       "</table>\n",
       "</div>"
      ],
      "text/plain": [
       "  user_id date_served marketing_channel          variant language_displayed  \\\n",
       "0   a1000      1/1/18         House Ads  personalization            English   \n",
       "1   a1001      1/1/18         House Ads  personalization            English   \n",
       "2   a1002      1/1/18         House Ads  personalization            English   \n",
       "3   a1003      1/1/18         House Ads  personalization            English   \n",
       "4   a1004      1/1/18         House Ads  personalization            English   \n",
       "\n",
       "  converted  \n",
       "0      True  \n",
       "1      True  \n",
       "2      True  \n",
       "3      True  \n",
       "4      True  "
      ]
     },
     "execution_count": 116,
     "metadata": {},
     "output_type": "execute_result"
    }
   ],
   "source": [
    "marketing_campaign= pd.read_csv('~/marketing_campaign.csv')\n",
    "marketing_campaign.head()"
   ]
  },
  {
   "cell_type": "code",
   "execution_count": 117,
   "id": "df387464",
   "metadata": {},
   "outputs": [
    {
     "data": {
      "text/html": [
       "<div>\n",
       "<style scoped>\n",
       "    .dataframe tbody tr th:only-of-type {\n",
       "        vertical-align: middle;\n",
       "    }\n",
       "\n",
       "    .dataframe tbody tr th {\n",
       "        vertical-align: top;\n",
       "    }\n",
       "\n",
       "    .dataframe thead th {\n",
       "        text-align: right;\n",
       "    }\n",
       "</style>\n",
       "<table border=\"1\" class=\"dataframe\">\n",
       "  <thead>\n",
       "    <tr style=\"text-align: right;\">\n",
       "      <th></th>\n",
       "      <th>user_id</th>\n",
       "      <th>age_group</th>\n",
       "      <th>language_preferred</th>\n",
       "    </tr>\n",
       "  </thead>\n",
       "  <tbody>\n",
       "    <tr>\n",
       "      <th>0</th>\n",
       "      <td>a1000</td>\n",
       "      <td>0-18 years</td>\n",
       "      <td>English</td>\n",
       "    </tr>\n",
       "    <tr>\n",
       "      <th>1</th>\n",
       "      <td>a1001</td>\n",
       "      <td>19-24 years</td>\n",
       "      <td>English</td>\n",
       "    </tr>\n",
       "    <tr>\n",
       "      <th>2</th>\n",
       "      <td>a1002</td>\n",
       "      <td>24-30 years</td>\n",
       "      <td>English</td>\n",
       "    </tr>\n",
       "    <tr>\n",
       "      <th>3</th>\n",
       "      <td>a1003</td>\n",
       "      <td>30-36 years</td>\n",
       "      <td>English</td>\n",
       "    </tr>\n",
       "    <tr>\n",
       "      <th>4</th>\n",
       "      <td>a1004</td>\n",
       "      <td>36-45 years</td>\n",
       "      <td>English</td>\n",
       "    </tr>\n",
       "  </tbody>\n",
       "</table>\n",
       "</div>"
      ],
      "text/plain": [
       "  user_id    age_group language_preferred\n",
       "0   a1000   0-18 years            English\n",
       "1   a1001  19-24 years            English\n",
       "2   a1002  24-30 years            English\n",
       "3   a1003  30-36 years            English\n",
       "4   a1004  36-45 years            English"
      ]
     },
     "execution_count": 117,
     "metadata": {},
     "output_type": "execute_result"
    }
   ],
   "source": [
    "users = pd.read_csv('~/users.csv')\n",
    "users.head()"
   ]
  },
  {
   "cell_type": "code",
   "execution_count": 118,
   "id": "26b09b0c",
   "metadata": {},
   "outputs": [
    {
     "data": {
      "text/plain": [
       "(10037, 6)"
      ]
     },
     "execution_count": 118,
     "metadata": {},
     "output_type": "execute_result"
    }
   ],
   "source": [
    "marketing_campaign.shape"
   ]
  },
  {
   "cell_type": "code",
   "execution_count": 119,
   "id": "c2b622a0",
   "metadata": {},
   "outputs": [
    {
     "data": {
      "text/plain": [
       "(10037, 3)"
      ]
     },
     "execution_count": 119,
     "metadata": {},
     "output_type": "execute_result"
    }
   ],
   "source": [
    "users.shape"
   ]
  },
  {
   "cell_type": "code",
   "execution_count": 120,
   "id": "79507d39",
   "metadata": {},
   "outputs": [
    {
     "data": {
      "text/html": [
       "<div>\n",
       "<style scoped>\n",
       "    .dataframe tbody tr th:only-of-type {\n",
       "        vertical-align: middle;\n",
       "    }\n",
       "\n",
       "    .dataframe tbody tr th {\n",
       "        vertical-align: top;\n",
       "    }\n",
       "\n",
       "    .dataframe thead th {\n",
       "        text-align: right;\n",
       "    }\n",
       "</style>\n",
       "<table border=\"1\" class=\"dataframe\">\n",
       "  <thead>\n",
       "    <tr style=\"text-align: right;\">\n",
       "      <th></th>\n",
       "      <th>user_id</th>\n",
       "      <th>age_group</th>\n",
       "      <th>language_preferred</th>\n",
       "      <th>date_served</th>\n",
       "      <th>marketing_channel</th>\n",
       "      <th>variant</th>\n",
       "      <th>language_displayed</th>\n",
       "      <th>converted</th>\n",
       "    </tr>\n",
       "  </thead>\n",
       "  <tbody>\n",
       "    <tr>\n",
       "      <th>0</th>\n",
       "      <td>a1000</td>\n",
       "      <td>0-18 years</td>\n",
       "      <td>English</td>\n",
       "      <td>1/1/18</td>\n",
       "      <td>House Ads</td>\n",
       "      <td>personalization</td>\n",
       "      <td>English</td>\n",
       "      <td>True</td>\n",
       "    </tr>\n",
       "    <tr>\n",
       "      <th>1</th>\n",
       "      <td>a1001</td>\n",
       "      <td>19-24 years</td>\n",
       "      <td>English</td>\n",
       "      <td>1/1/18</td>\n",
       "      <td>House Ads</td>\n",
       "      <td>personalization</td>\n",
       "      <td>English</td>\n",
       "      <td>True</td>\n",
       "    </tr>\n",
       "    <tr>\n",
       "      <th>2</th>\n",
       "      <td>a1002</td>\n",
       "      <td>24-30 years</td>\n",
       "      <td>English</td>\n",
       "      <td>1/1/18</td>\n",
       "      <td>House Ads</td>\n",
       "      <td>personalization</td>\n",
       "      <td>English</td>\n",
       "      <td>True</td>\n",
       "    </tr>\n",
       "    <tr>\n",
       "      <th>3</th>\n",
       "      <td>a1003</td>\n",
       "      <td>30-36 years</td>\n",
       "      <td>English</td>\n",
       "      <td>1/1/18</td>\n",
       "      <td>House Ads</td>\n",
       "      <td>personalization</td>\n",
       "      <td>English</td>\n",
       "      <td>True</td>\n",
       "    </tr>\n",
       "    <tr>\n",
       "      <th>4</th>\n",
       "      <td>a1004</td>\n",
       "      <td>36-45 years</td>\n",
       "      <td>English</td>\n",
       "      <td>1/1/18</td>\n",
       "      <td>House Ads</td>\n",
       "      <td>personalization</td>\n",
       "      <td>English</td>\n",
       "      <td>True</td>\n",
       "    </tr>\n",
       "  </tbody>\n",
       "</table>\n",
       "</div>"
      ],
      "text/plain": [
       "  user_id    age_group language_preferred date_served marketing_channel  \\\n",
       "0   a1000   0-18 years            English      1/1/18         House Ads   \n",
       "1   a1001  19-24 years            English      1/1/18         House Ads   \n",
       "2   a1002  24-30 years            English      1/1/18         House Ads   \n",
       "3   a1003  30-36 years            English      1/1/18         House Ads   \n",
       "4   a1004  36-45 years            English      1/1/18         House Ads   \n",
       "\n",
       "           variant language_displayed converted  \n",
       "0  personalization            English      True  \n",
       "1  personalization            English      True  \n",
       "2  personalization            English      True  \n",
       "3  personalization            English      True  \n",
       "4  personalization            English      True  "
      ]
     },
     "execution_count": 120,
     "metadata": {},
     "output_type": "execute_result"
    }
   ],
   "source": [
    "users = users.merge(marketing_campaign, on ='user_id')\n",
    "users.head()"
   ]
  },
  {
   "cell_type": "code",
   "execution_count": 162,
   "id": "8de644d6",
   "metadata": {},
   "outputs": [],
   "source": [
    "users['is_correct_lang'] = np.where(users['language_preferred'] == users['language_displayed'], 'yes', 'no')"
   ]
  },
  {
   "cell_type": "code",
   "execution_count": 124,
   "id": "b5b489af",
   "metadata": {},
   "outputs": [
    {
     "data": {
      "text/plain": [
       "(10037, 9)"
      ]
     },
     "execution_count": 124,
     "metadata": {},
     "output_type": "execute_result"
    }
   ],
   "source": [
    "users.shape"
   ]
  },
  {
   "cell_type": "code",
   "execution_count": 130,
   "id": "92650d0b",
   "metadata": {},
   "outputs": [
    {
     "data": {
      "text/plain": [
       "user_id                0\n",
       "age_group              0\n",
       "language_preferred     0\n",
       "date_served           16\n",
       "marketing_channel     15\n",
       "variant                0\n",
       "language_displayed     0\n",
       "converted             15\n",
       "is_correct_lang        0\n",
       "dtype: int64"
      ]
     },
     "execution_count": 130,
     "metadata": {},
     "output_type": "execute_result"
    }
   ],
   "source": [
    "users.isna().sum()"
   ]
  },
  {
   "cell_type": "markdown",
   "id": "03d53cc3",
   "metadata": {},
   "source": [
    "Отсутствующих значений немного, поэтому удалим их"
   ]
  },
  {
   "cell_type": "code",
   "execution_count": 134,
   "id": "8aac31f2",
   "metadata": {},
   "outputs": [],
   "source": [
    "users.dropna(inplace=True)"
   ]
  },
  {
   "cell_type": "code",
   "execution_count": 135,
   "id": "e55ea1a6",
   "metadata": {},
   "outputs": [
    {
     "data": {
      "text/plain": [
       "(10021, 9)"
      ]
     },
     "execution_count": 135,
     "metadata": {},
     "output_type": "execute_result"
    }
   ],
   "source": [
    "users.shape"
   ]
  },
  {
   "cell_type": "code",
   "execution_count": 136,
   "id": "dcf9098a",
   "metadata": {},
   "outputs": [
    {
     "data": {
      "text/plain": [
       "(5076, 9)"
      ]
     },
     "execution_count": 136,
     "metadata": {},
     "output_type": "execute_result"
    }
   ],
   "source": [
    "users_A = users.query('variant ==\"control\"')\n",
    "users_A.shape"
   ]
  },
  {
   "cell_type": "code",
   "execution_count": 137,
   "id": "9d7b012b",
   "metadata": {},
   "outputs": [
    {
     "data": {
      "text/plain": [
       "(4945, 9)"
      ]
     },
     "execution_count": 137,
     "metadata": {},
     "output_type": "execute_result"
    }
   ],
   "source": [
    "users_B = users.query('variant ==\"personalization\"')\n",
    "users_B.shape"
   ]
  },
  {
   "cell_type": "markdown",
   "id": "8dcc23c0",
   "metadata": {},
   "source": [
    "Количество данных в группах А и В практически равно"
   ]
  },
  {
   "cell_type": "code",
   "execution_count": 138,
   "id": "cabe4d11",
   "metadata": {},
   "outputs": [
    {
     "data": {
      "text/html": [
       "<div>\n",
       "<style scoped>\n",
       "    .dataframe tbody tr th:only-of-type {\n",
       "        vertical-align: middle;\n",
       "    }\n",
       "\n",
       "    .dataframe tbody tr th {\n",
       "        vertical-align: top;\n",
       "    }\n",
       "\n",
       "    .dataframe thead th {\n",
       "        text-align: right;\n",
       "    }\n",
       "</style>\n",
       "<table border=\"1\" class=\"dataframe\">\n",
       "  <thead>\n",
       "    <tr style=\"text-align: right;\">\n",
       "      <th></th>\n",
       "      <th>user_id</th>\n",
       "      <th>age_group</th>\n",
       "      <th>language_preferred</th>\n",
       "      <th>date_served</th>\n",
       "      <th>marketing_channel</th>\n",
       "      <th>variant</th>\n",
       "      <th>language_displayed</th>\n",
       "      <th>converted</th>\n",
       "      <th>is_correct_lang</th>\n",
       "    </tr>\n",
       "  </thead>\n",
       "  <tbody>\n",
       "  </tbody>\n",
       "</table>\n",
       "</div>"
      ],
      "text/plain": [
       "Empty DataFrame\n",
       "Columns: [user_id, age_group, language_preferred, date_served, marketing_channel, variant, language_displayed, converted, is_correct_lang]\n",
       "Index: []"
      ]
     },
     "execution_count": 138,
     "metadata": {},
     "output_type": "execute_result"
    }
   ],
   "source": [
    "users_A.query('user_id in @users_B.user_id')"
   ]
  },
  {
   "cell_type": "markdown",
   "id": "672d8416",
   "metadata": {},
   "source": [
    "Совпадений по юзерам в группах А и В нет"
   ]
  },
  {
   "cell_type": "markdown",
   "id": "2dda67ca",
   "metadata": {},
   "source": [
    "Проверим насколько отличается количество показанной рекламы на другом языке в группах А и В"
   ]
  },
  {
   "cell_type": "code",
   "execution_count": 174,
   "id": "2fc807dc",
   "metadata": {},
   "outputs": [],
   "source": [
    "users_correct_lang = users.groupby(['variant','is_correct_lang'], as_index = False)\\\n",
    "                    .agg({'user_id':'count'})\\\n",
    "                    .rename(columns={'user_id':'quantity'})"
   ]
  },
  {
   "cell_type": "code",
   "execution_count": 175,
   "id": "d40d3b7b",
   "metadata": {},
   "outputs": [
    {
     "data": {
      "text/html": [
       "<div>\n",
       "<style scoped>\n",
       "    .dataframe tbody tr th:only-of-type {\n",
       "        vertical-align: middle;\n",
       "    }\n",
       "\n",
       "    .dataframe tbody tr th {\n",
       "        vertical-align: top;\n",
       "    }\n",
       "\n",
       "    .dataframe thead th {\n",
       "        text-align: right;\n",
       "    }\n",
       "</style>\n",
       "<table border=\"1\" class=\"dataframe\">\n",
       "  <thead>\n",
       "    <tr style=\"text-align: right;\">\n",
       "      <th></th>\n",
       "      <th>variant</th>\n",
       "      <th>is_correct_lang</th>\n",
       "      <th>quantity</th>\n",
       "    </tr>\n",
       "  </thead>\n",
       "  <tbody>\n",
       "    <tr>\n",
       "      <th>0</th>\n",
       "      <td>control</td>\n",
       "      <td>no</td>\n",
       "      <td>321</td>\n",
       "    </tr>\n",
       "    <tr>\n",
       "      <th>1</th>\n",
       "      <td>control</td>\n",
       "      <td>yes</td>\n",
       "      <td>4755</td>\n",
       "    </tr>\n",
       "    <tr>\n",
       "      <th>2</th>\n",
       "      <td>personalization</td>\n",
       "      <td>no</td>\n",
       "      <td>201</td>\n",
       "    </tr>\n",
       "    <tr>\n",
       "      <th>3</th>\n",
       "      <td>personalization</td>\n",
       "      <td>yes</td>\n",
       "      <td>4744</td>\n",
       "    </tr>\n",
       "  </tbody>\n",
       "</table>\n",
       "</div>"
      ],
      "text/plain": [
       "           variant is_correct_lang  quantity\n",
       "0          control              no       321\n",
       "1          control             yes      4755\n",
       "2  personalization              no       201\n",
       "3  personalization             yes      4744"
      ]
     },
     "execution_count": 175,
     "metadata": {},
     "output_type": "execute_result"
    }
   ],
   "source": [
    "users_correct_lang"
   ]
  },
  {
   "cell_type": "code",
   "execution_count": 172,
   "id": "c769d397",
   "metadata": {},
   "outputs": [
    {
     "data": {
      "image/png": "[encoded data removed]",
      "text/plain": [
       "<Figure size 432x288 with 1 Axes>"
      ]
     },
     "metadata": {
      "needs_background": "light"
     },
     "output_type": "display_data"
    }
   ],
   "source": [
    "sns.barplot(x='is_correct_lang', y='quantity', data=users_correct_lang, hue='variant')\n",
    "plt.show()"
   ]
  },
  {
   "cell_type": "markdown",
   "id": "d6ae1ffc",
   "metadata": {},
   "source": [
    "Итак, соотношение рекламы на предпочитаемом языке и нет в контрольной и тестовой группах примерно равное"
   ]
  },
  {
   "cell_type": "markdown",
   "id": "985ac02d",
   "metadata": {},
   "source": [
    "Проверим, есть ли существенные отличия в А и В по возрастной группе, предпочитаемому языку и каналу привлечения"
   ]
  },
  {
   "cell_type": "code",
   "execution_count": 176,
   "id": "579f83fb",
   "metadata": {},
   "outputs": [],
   "source": [
    "users_age = users.groupby(['variant','age_group'], as_index = False)\\\n",
    "                    .agg({'user_id':'count'})\\\n",
    "                    .rename(columns={'user_id':'quantity'})"
   ]
  },
  {
   "cell_type": "code",
   "execution_count": 177,
   "id": "d693b00d",
   "metadata": {},
   "outputs": [
    {
     "data": {
      "image/png": "[encoded data removed]",
      "text/plain": [
       "<Figure size 864x576 with 1 Axes>"
      ]
     },
     "metadata": {
      "needs_background": "light"
     },
     "output_type": "display_data"
    }
   ],
   "source": [
    "plt.figure(figsize=(12,8))\n",
    "sns.barplot(x='age_group', y='quantity', data=users_age, hue='variant')\n",
    "plt.show()"
   ]
  },
  {
   "cell_type": "code",
   "execution_count": 178,
   "id": "54d628b8",
   "metadata": {},
   "outputs": [],
   "source": [
    "users_language = users.groupby(['variant','language_preferred'], as_index = False)\\\n",
    "                    .agg({'user_id':'count'})\\\n",
    "                    .rename(columns={'user_id':'quantity'})"
   ]
  },
  {
   "cell_type": "code",
   "execution_count": 179,
   "id": "19adda42",
   "metadata": {},
   "outputs": [
    {
     "data": {
      "text/plain": [
       "<AxesSubplot:xlabel='language_preferred', ylabel='quantity'>"
      ]
     },
     "execution_count": 179,
     "metadata": {},
     "output_type": "execute_result"
    },
    {
     "data": {
      "image/png": "[encoded data removed]",
      "text/plain": [
       "<Figure size 432x288 with 1 Axes>"
      ]
     },
     "metadata": {
      "needs_background": "light"
     },
     "output_type": "display_data"
    }
   ],
   "source": [
    "sns.barplot(x='language_preferred', y='quantity', data=users_language, hue='variant')"
   ]
  },
  {
   "cell_type": "code",
   "execution_count": 180,
   "id": "36b5323d",
   "metadata": {},
   "outputs": [],
   "source": [
    "users_marketing_channel = users.groupby(['variant','marketing_channel'], as_index = False)\\\n",
    "                    .agg({'user_id':'count'})\\\n",
    "                    .rename(columns={'user_id':'quantity'})"
   ]
  },
  {
   "cell_type": "code",
   "execution_count": 181,
   "id": "a1ffcc2c",
   "metadata": {},
   "outputs": [
    {
     "data": {
      "text/plain": [
       "<AxesSubplot:xlabel='marketing_channel', ylabel='quantity'>"
      ]
     },
     "execution_count": 181,
     "metadata": {},
     "output_type": "execute_result"
    },
    {
     "data": {
      "image/png": "[encoded data removed]",
      "text/plain": [
       "<Figure size 432x288 with 1 Axes>"
      ]
     },
     "metadata": {
      "needs_background": "light"
     },
     "output_type": "display_data"
    }
   ],
   "source": [
    "sns.barplot(x='marketing_channel', y='quantity', data=users_marketing_channel, hue='variant')"
   ]
  },
  {
   "cell_type": "markdown",
   "id": "eeac3bcf",
   "metadata": {},
   "source": [
    "Можно сделать вывод, что существенных различий по таким признакам как возраст, язык, маркетинговый канал в выборках А и В нет"
   ]
  },
  {
   "cell_type": "markdown",
   "id": "772f7d4c",
   "metadata": {},
   "source": [
    "В качестве метрики для оценки влияния  вариантов рекламы на поведение пользователей будем использовать показатель конверсии в покупку по дням. Нулевая гипотеза будет в том, что в группах А и В нет никаких статистически значимых различий, и 2 разных варианта рекламы никак не влияют на конверсию в покупку. Планируемый уровень значимости установим равным 0.001"
   ]
  },
  {
   "cell_type": "code",
   "execution_count": 182,
   "id": "c183372b",
   "metadata": {},
   "outputs": [],
   "source": [
    "a = 0.001"
   ]
  },
  {
   "cell_type": "code",
   "execution_count": 183,
   "id": "a1f38375",
   "metadata": {},
   "outputs": [],
   "source": [
    "users.date_served = pd.to_datetime(users.date_served)"
   ]
  },
  {
   "cell_type": "code",
   "execution_count": 209,
   "id": "b9bd4c84",
   "metadata": {},
   "outputs": [],
   "source": [
    "df = users.groupby(['date_served', 'variant'], as_index=False)\\\n",
    "            .agg({'converted':'sum','user_id':'count'})\\\n",
    "            .rename(columns={'user_id':'wieved'})"
   ]
  },
  {
   "cell_type": "code",
   "execution_count": 210,
   "id": "3e99df07",
   "metadata": {},
   "outputs": [],
   "source": [
    "df['convert']=df['converted']/df['wieved']"
   ]
  },
  {
   "cell_type": "code",
   "execution_count": 211,
   "id": "95f54464",
   "metadata": {},
   "outputs": [],
   "source": [
    "df.drop(['converted', 'wieved'], axis =1, inplace=True)"
   ]
  },
  {
   "cell_type": "code",
   "execution_count": 212,
   "id": "617cbc7e",
   "metadata": {},
   "outputs": [],
   "source": [
    "df = df.pivot(values='convert', index='date_served', columns='variant').reset_index()"
   ]
  },
  {
   "cell_type": "code",
   "execution_count": 216,
   "id": "d76ea033",
   "metadata": {},
   "outputs": [
    {
     "data": {
      "text/html": [
       "<div>\n",
       "<style scoped>\n",
       "    .dataframe tbody tr th:only-of-type {\n",
       "        vertical-align: middle;\n",
       "    }\n",
       "\n",
       "    .dataframe tbody tr th {\n",
       "        vertical-align: top;\n",
       "    }\n",
       "\n",
       "    .dataframe thead th {\n",
       "        text-align: right;\n",
       "    }\n",
       "</style>\n",
       "<table border=\"1\" class=\"dataframe\">\n",
       "  <thead>\n",
       "    <tr style=\"text-align: right;\">\n",
       "      <th>variant</th>\n",
       "      <th>date_served</th>\n",
       "      <th>control</th>\n",
       "      <th>personalization</th>\n",
       "    </tr>\n",
       "  </thead>\n",
       "  <tbody>\n",
       "    <tr>\n",
       "      <th>0</th>\n",
       "      <td>2018-01-01</td>\n",
       "      <td>0.018634</td>\n",
       "      <td>0.163551</td>\n",
       "    </tr>\n",
       "    <tr>\n",
       "      <th>1</th>\n",
       "      <td>2018-01-02</td>\n",
       "      <td>0.015544</td>\n",
       "      <td>0.160714</td>\n",
       "    </tr>\n",
       "    <tr>\n",
       "      <th>2</th>\n",
       "      <td>2018-01-03</td>\n",
       "      <td>0.075000</td>\n",
       "      <td>0.117021</td>\n",
       "    </tr>\n",
       "    <tr>\n",
       "      <th>3</th>\n",
       "      <td>2018-01-04</td>\n",
       "      <td>0.098901</td>\n",
       "      <td>0.123377</td>\n",
       "    </tr>\n",
       "    <tr>\n",
       "      <th>4</th>\n",
       "      <td>2018-01-05</td>\n",
       "      <td>0.129213</td>\n",
       "      <td>0.124183</td>\n",
       "    </tr>\n",
       "  </tbody>\n",
       "</table>\n",
       "</div>"
      ],
      "text/plain": [
       "variant date_served   control  personalization\n",
       "0        2018-01-01  0.018634         0.163551\n",
       "1        2018-01-02  0.015544         0.160714\n",
       "2        2018-01-03  0.075000         0.117021\n",
       "3        2018-01-04  0.098901         0.123377\n",
       "4        2018-01-05  0.129213         0.124183"
      ]
     },
     "execution_count": 216,
     "metadata": {},
     "output_type": "execute_result"
    }
   ],
   "source": [
    "df.head()"
   ]
  },
  {
   "cell_type": "markdown",
   "id": "4d7aa26b",
   "metadata": {},
   "source": [
    "Проведем А/А тест для проверки того, что в группе нет никаких различий. Для этого разобьем данные на две подгруппы"
   ]
  },
  {
   "cell_type": "code",
   "execution_count": 213,
   "id": "70369733",
   "metadata": {},
   "outputs": [],
   "source": [
    "df_aa = df[\"control\"]"
   ]
  },
  {
   "cell_type": "code",
   "execution_count": 214,
   "id": "1abe1477",
   "metadata": {},
   "outputs": [],
   "source": [
    "a1, a2 = train_test_split(df_aa,test_size=0.5,random_state=40)"
   ]
  },
  {
   "cell_type": "code",
   "execution_count": 215,
   "id": "01bad043",
   "metadata": {},
   "outputs": [
    {
     "data": {
      "text/plain": [
       "<seaborn.axisgrid.FacetGrid at 0x25c17d8b400>"
      ]
     },
     "execution_count": 215,
     "metadata": {},
     "output_type": "execute_result"
    },
    {
     "data": {
      "text/plain": [
       "<Figure size 576x432 with 0 Axes>"
      ]
     },
     "metadata": {},
     "output_type": "display_data"
    },
    {
     "data": {
      "image/png": "[encoded data removed]",
      "text/plain": [
       "<Figure size 360x360 with 1 Axes>"
      ]
     },
     "metadata": {
      "needs_background": "light"
     },
     "output_type": "display_data"
    },
    {
     "data": {
      "image/png": "[encoded data removed]",
      "text/plain": [
       "<Figure size 360x360 with 1 Axes>"
      ]
     },
     "metadata": {
      "needs_background": "light"
     },
     "output_type": "display_data"
    }
   ],
   "source": [
    "plt.figure(figsize=(8,6))\n",
    "sns.displot(a1)\n",
    "sns.displot(a2)"
   ]
  },
  {
   "cell_type": "markdown",
   "id": "e029f824",
   "metadata": {},
   "source": [
    "Так как используется относительно небольшой размер выборки, используем U-тест Манна-Уитни."
   ]
  },
  {
   "cell_type": "code",
   "execution_count": 190,
   "id": "a89603ab",
   "metadata": {},
   "outputs": [],
   "source": [
    "Statistics, p = mannwhitneyu(a1['convert'],a2['convert'])"
   ]
  },
  {
   "cell_type": "code",
   "execution_count": 191,
   "id": "e36be895",
   "metadata": {},
   "outputs": [
    {
     "name": "stdout",
     "output_type": "stream",
     "text": [
      "Statistics = 88.5, p-value = 0.11019228934140873\n"
     ]
    }
   ],
   "source": [
    "print(f'Statistics = {Statistics}, p-value = {p}')"
   ]
  },
  {
   "cell_type": "code",
   "execution_count": 192,
   "id": "b030babd",
   "metadata": {},
   "outputs": [
    {
     "data": {
      "text/plain": [
       "False"
      ]
     },
     "execution_count": 192,
     "metadata": {},
     "output_type": "execute_result"
    }
   ],
   "source": [
    "p<a"
   ]
  },
  {
   "cell_type": "markdown",
   "id": "c90236df",
   "metadata": {},
   "source": [
    "Мы получили pvalue выше заданного уровня alpha, что готовит об отсутствии статически значимых различий между А1 и А2, следовательно, обе выборки принадлежат одной генеральной совокупности."
   ]
  },
  {
   "cell_type": "markdown",
   "id": "ceafa3cd",
   "metadata": {},
   "source": [
    "Далее проведем А/B-тест для проверки влияния нового варианта рекламы на поведение пользователей. Нулевая гипотеза: в группах А и В нет никаких статистически значимых различий, и 2 разных варианта рекламы никак не влияют на конверсию в покупку."
   ]
  },
  {
   "cell_type": "markdown",
   "id": "aa1fc262",
   "metadata": {},
   "source": [
    "Визуализируем наличие различий в группах аб-теста"
   ]
  },
  {
   "cell_type": "code",
   "execution_count": 226,
   "id": "97a24007",
   "metadata": {},
   "outputs": [
    {
     "data": {
      "image/png": "[encoded data removed]",
      "text/plain": [
       "<Figure size 360x504 with 1 Axes>"
      ]
     },
     "metadata": {
      "needs_background": "light"
     },
     "output_type": "display_data"
    }
   ],
   "source": [
    "plt.figure(figsize=(5, 7))\n",
    "ax = sns.boxplot(data=df[['control','personalization']], palette=\"Set2\")\n",
    "ax.yaxis.set_major_formatter(PercentFormatter(xmax=1))"
   ]
  },
  {
   "cell_type": "markdown",
   "id": "9a92250b",
   "metadata": {},
   "source": [
    "Посмотрим на распределение метрики в группах"
   ]
  },
  {
   "cell_type": "code",
   "execution_count": 221,
   "id": "76682b90",
   "metadata": {},
   "outputs": [
    {
     "data": {
      "text/plain": [
       "Text(0.5, 1.0, 'group A')"
      ]
     },
     "execution_count": 221,
     "metadata": {},
     "output_type": "execute_result"
    },
    {
     "data": {
      "image/png": "[encoded data removed]",
      "text/plain": [
       "<Figure size 360x360 with 1 Axes>"
      ]
     },
     "metadata": {
      "needs_background": "light"
     },
     "output_type": "display_data"
    }
   ],
   "source": [
    "sns.displot(df['control'])\n",
    "plt.title('group A')"
   ]
  },
  {
   "cell_type": "code",
   "execution_count": 222,
   "id": "7fb8d213",
   "metadata": {},
   "outputs": [
    {
     "data": {
      "text/plain": [
       "Text(0.5, 1.0, 'group B')"
      ]
     },
     "execution_count": 222,
     "metadata": {},
     "output_type": "execute_result"
    },
    {
     "data": {
      "image/png": "[encoded data removed]",
      "text/plain": [
       "<Figure size 360x360 with 1 Axes>"
      ]
     },
     "metadata": {
      "needs_background": "light"
     },
     "output_type": "display_data"
    }
   ],
   "source": [
    "sns.displot(df['personalization'])\n",
    "plt.title('group B')"
   ]
  },
  {
   "cell_type": "markdown",
   "id": "1e7bf9da",
   "metadata": {},
   "source": [
    "Для проведения теста используем U-критерий Манна-Уитни"
   ]
  },
  {
   "cell_type": "code",
   "execution_count": 223,
   "id": "b143cfc7",
   "metadata": {},
   "outputs": [],
   "source": [
    "Statistics, p = mannwhitneyu(df['control'],df['personalization'])"
   ]
  },
  {
   "cell_type": "code",
   "execution_count": 224,
   "id": "53e727d8",
   "metadata": {},
   "outputs": [
    {
     "name": "stdout",
     "output_type": "stream",
     "text": [
      "Statistics = 175.0, p-value = 8.769097662653401e-06\n"
     ]
    }
   ],
   "source": [
    "print(f'Statistics = {Statistics}, p-value = {p}')"
   ]
  },
  {
   "cell_type": "code",
   "execution_count": 225,
   "id": "7c48a63b",
   "metadata": {},
   "outputs": [
    {
     "data": {
      "text/plain": [
       "True"
      ]
     },
     "execution_count": 225,
     "metadata": {},
     "output_type": "execute_result"
    }
   ],
   "source": [
    "p<a"
   ]
  },
  {
   "cell_type": "markdown",
   "id": "ebed98cd",
   "metadata": {},
   "source": [
    "Мы получили p-уровень значимости значительно ниже 0.005, следовательно мы можем отклонить нулевую гипотезу о том, что выборки A и B принадлежат одной генеральной совокупности и никаких статистически значимых различий между А и В нет."
   ]
  },
  {
   "cell_type": "markdown",
   "id": "4b137e0e",
   "metadata": {},
   "source": [
    "Итак, можно сделать вывод, что персонализируемый вариант рекламы, показанный группе В, оказывает статистически значимое влияник на нашу метрику(конверсия в покупку)"
   ]
  },
  {
   "cell_type": "code",
   "execution_count": null,
   "id": "dc89767e",
   "metadata": {},
   "outputs": [],
   "source": []
  }
 ],
 "metadata": {
  "kernelspec": {
   "display_name": "Python 3",
   "language": "python",
   "name": "python3"
  },
  "language_info": {
   "codemirror_mode": {
    "name": "ipython",
    "version": 3
   },
   "file_extension": ".py",
   "mimetype": "text/x-python",
   "name": "python",
   "nbconvert_exporter": "python",
   "pygments_lexer": "ipython3",
   "version": "3.8.8"
  }
 },
 "nbformat": 4,
 "nbformat_minor": 5
}
